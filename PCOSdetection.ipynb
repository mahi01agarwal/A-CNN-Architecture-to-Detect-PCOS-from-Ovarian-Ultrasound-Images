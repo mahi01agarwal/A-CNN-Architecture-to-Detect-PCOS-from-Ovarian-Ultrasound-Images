{
  "nbformat": 4,
  "nbformat_minor": 0,
  "metadata": {
    "colab": {
      "provenance": [],
      "gpuType": "T4",
      "authorship_tag": "ABX9TyNU5PhOXmemKbSArj1fGNKa",
      "include_colab_link": true
    },
    "kernelspec": {
      "name": "python3",
      "display_name": "Python 3"
    },
    "language_info": {
      "name": "python"
    },
    "accelerator": "GPU"
  },
  "cells": [
    {
      "cell_type": "markdown",
      "metadata": {
        "id": "view-in-github",
        "colab_type": "text"
      },
      "source": [
        "<a href=\"https://colab.research.google.com/github/mahi01agarwal/A-CNN-Architecture-to-Detect-PCOS-from-Ovarian-Ultrasound-Images/blob/main/PCOSdetection.ipynb\" target=\"_parent\"><img src=\"https://colab.research.google.com/assets/colab-badge.svg\" alt=\"Open In Colab\"/></a>"
      ]
    },
    {
      "cell_type": "code",
      "source": [
        "!mkdir -p ~/.kaggle\n",
        "!cp kaggle.json ~/.kaggle/"
      ],
      "metadata": {
        "id": "SwgkjtOiQZA9",
        "outputId": "090fcd20-a48e-460c-fb36-531ab7111e74",
        "colab": {
          "base_uri": "https://localhost:8080/"
        }
      },
      "execution_count": null,
      "outputs": [
        {
          "output_type": "stream",
          "name": "stdout",
          "text": [
            "cp: cannot stat 'kaggle.json': No such file or directory\n"
          ]
        }
      ]
    },
    {
      "cell_type": "code",
      "source": [
        "!chmod 600 /root/.kaggle/kaggle.json"
      ],
      "metadata": {
        "id": "T3AO-Yqq7TOH"
      },
      "execution_count": null,
      "outputs": []
    },
    {
      "cell_type": "code",
      "source": [
        "!kaggle datasets download -d anaghachoudhari/pcos-detection-using-ultrasound-images"
      ],
      "metadata": {
        "id": "hL8QjCB5RIOa",
        "colab": {
          "base_uri": "https://localhost:8080/"
        },
        "outputId": "2e5c7bc5-a3b3-47fa-b855-543d72e0b0ed"
      },
      "execution_count": null,
      "outputs": [
        {
          "output_type": "stream",
          "name": "stdout",
          "text": [
            "Downloading pcos-detection-using-ultrasound-images.zip to /content\n",
            " 98% 123M/126M [00:01<00:00, 86.2MB/s]\n",
            "100% 126M/126M [00:01<00:00, 82.9MB/s]\n"
          ]
        }
      ]
    },
    {
      "cell_type": "code",
      "source": [
        "import zipfile\n",
        "zip_ref = zipfile.ZipFile('/content/pcos-detection-using-ultrasound-images.zip', 'r')\n",
        "zip_ref.extractall('/content')\n",
        "zip_ref.close()"
      ],
      "metadata": {
        "id": "1UfVuk69q7uO"
      },
      "execution_count": null,
      "outputs": []
    },
    {
      "cell_type": "code",
      "source": [
        "import os\n",
        "import cv2\n",
        "from tqdm import tqdm\n",
        "\n",
        "datadir = r'/content/data/test'  # Path to directory with class subdirectories holding the image files\n",
        "bad_img_list = []  # Will be a list of defective images\n",
        "classes = sorted(os.listdir(datadir))  # A list of classes within the datadir\n",
        "\n",
        "def is_infected_image(image_path):\n",
        "    try:\n",
        "        index = image_path.rfind('.')  # Find the rightmost . in image_path\n",
        "        ext = image_path[index + 1:].lower()  # Get the file's extension and convert it to lowercase\n",
        "        good_ext = ['jpg', 'jpeg', 'bmp', 'png']  # List of allowable extensions for image_dataset_from_directory\n",
        "        if ext not in good_ext:\n",
        "            return True  # Return True if the extension is not allowed\n",
        "        img = cv2.imread(image_path)  # Read in the image\n",
        "        shape = img.shape  # Get the image shape (height, width) or (height, width, channels)\n",
        "        count = len(shape)\n",
        "        if count == 2:  # If shape is (width, height), the image is single-channel\n",
        "            channels = 1\n",
        "        else:\n",
        "            channels = shape[2]  # Shape is (width, height, channels)\n",
        "        if channels == 2:\n",
        "            return True  # Return True if the image has 2 channels\n",
        "    except:\n",
        "        return True  # Return True if any other exception occurs\n",
        "    return False  # Return False if the image is not infected\n",
        "\n",
        "# Iterate through each class and its images\n",
        "for klass in classes:\n",
        "    classpath = os.path.join(datadir, klass)\n",
        "    flist = sorted(os.listdir(classpath))  # List of files in the current class\n",
        "\n",
        "    for f in tqdm(flist, ncols=100, unit='files', colour='blue', desc=klass):\n",
        "        fpath = os.path.join(classpath, f)  # Path to the image file\n",
        "\n",
        "        if is_infected_image(fpath):\n",
        "            # Append the path to the list of bad_img_list\n",
        "            bad_img_list.append(fpath)\n",
        "            os.remove(fpath)  # Remove the infected image file\n",
        "\n",
        "if len(bad_img_list) > 0:\n",
        "    print('Below is a list of defective image filepaths that were removed:')\n",
        "    for f in bad_img_list:\n",
        "        print(f)\n"
      ],
      "metadata": {
        "colab": {
          "base_uri": "https://localhost:8080/"
        },
        "id": "AvePc_QOy-x6",
        "outputId": "6c13ece5-e41d-4fa9-a4b2-fd51ed25a80a"
      },
      "execution_count": null,
      "outputs": [
        {
          "output_type": "stream",
          "name": "stderr",
          "text": [
            "infected: 100%|\u001b[34m███████████████████████████████████████████████\u001b[0m| 787/787 [00:02<00:00, 365.40files/s]\u001b[0m\n",
            "notinfected: 100%|\u001b[34m██████████████████████████████████████████\u001b[0m| 1145/1145 [00:06<00:00, 190.17files/s]\u001b[0m"
          ]
        },
        {
          "output_type": "stream",
          "name": "stdout",
          "text": [
            "Below is a list of defective image filepaths that were removed:\n",
            "/content/data/test/infected/OIP.jpg\n",
            "/content/data/test/infected/R.jpg\n",
            "/content/data/test/infected/WhatsApp Image 2022-04-01 at 3.49.22 PM.jpeg\n",
            "/content/data/test/infected/WhatsApp Image 2022-04-01 at 3.49.45 PM.jpeg\n",
            "/content/data/test/infected/WhatsApp Image 2022-04-01 at 3.50.05 PM.jpeg\n",
            "/content/data/test/infected/WhatsApp Image 2022-04-01 at 3.50.20 PM.jpeg\n",
            "/content/data/test/notinfected/OIP (1).jpg\n",
            "/content/data/test/notinfected/WhatsApp Image 2022-04-01 at 3.35.25 PM.jpeg\n",
            "/content/data/test/notinfected/WhatsApp Image 2022-04-01 at 3.39.07 PM.jpeg\n",
            "/content/data/test/notinfected/img_0_7.jpg\n"
          ]
        },
        {
          "output_type": "stream",
          "name": "stderr",
          "text": [
            "\n"
          ]
        }
      ]
    },
    {
      "cell_type": "code",
      "source": [
        "import tensorflow as tf\n",
        "from tensorflow import keras\n",
        "from keras import Sequential\n",
        "from keras.layers import Dense,Conv2D,MaxPooling2D,Flatten,Dropout"
      ],
      "metadata": {
        "id": "SUaIk9u7rG3X"
      },
      "execution_count": null,
      "outputs": []
    },
    {
      "cell_type": "code",
      "source": [
        "# generators\n",
        "train_ds = keras.utils.image_dataset_from_directory(\n",
        "    directory = '/content/data/train',\n",
        "    labels='inferred',\n",
        "    label_mode = 'int',\n",
        "    batch_size=32,\n",
        "    image_size=(224,224)\n",
        ")\n",
        "\n",
        "validation_ds = keras.utils.image_dataset_from_directory(\n",
        "    directory = '/content/data/test',\n",
        "    labels='inferred',\n",
        "    label_mode = 'int',\n",
        "    batch_size=32,\n",
        "    image_size=(224,224)\n",
        ")"
      ],
      "metadata": {
        "id": "-_l2017VrkgH",
        "colab": {
          "base_uri": "https://localhost:8080/"
        },
        "outputId": "a8a20cef-5d3e-40db-bdfd-cd3506a1e580"
      },
      "execution_count": null,
      "outputs": [
        {
          "output_type": "stream",
          "name": "stdout",
          "text": [
            "Found 1924 files belonging to 2 classes.\n",
            "Found 1922 files belonging to 2 classes.\n"
          ]
        }
      ]
    },
    {
      "cell_type": "code",
      "source": [
        "# create CNN model\n",
        "\n",
        "model = Sequential()\n",
        "\n",
        "model.add(Conv2D(32,kernel_size=(3,3),padding='valid',activation='relu',input_shape=(224,224,3)))\n",
        "model.add(MaxPooling2D(pool_size=(2,2),strides=2,padding='valid'))\n",
        "\n",
        "model.add(Conv2D(32,kernel_size=(3,3),padding='valid',activation='relu'))\n",
        "model.add(MaxPooling2D(pool_size=(2,2),strides=2,padding='valid'))\n",
        "\n",
        "model.add(Conv2D(64,kernel_size=(3,3),padding='valid',activation='relu'))\n",
        "model.add(MaxPooling2D(pool_size=(2,2),strides=2,padding='valid'))\n",
        "\n",
        "model.add(Conv2D(64,kernel_size=(3,3),padding='valid',activation='relu'))\n",
        "model.add(MaxPooling2D(pool_size=(2,2),strides=2,padding='valid'))\n",
        "\n",
        "model.add(Conv2D(128,kernel_size=(3,3),padding='valid',activation='relu'))\n",
        "model.add(MaxPooling2D(pool_size=(2,2),strides=2,padding='valid'))\n",
        "\n",
        "\n",
        "\n",
        "model.add(Flatten())\n",
        "\n",
        "model.add(Dense(128,activation='relu'))\n",
        "model.add(Dropout(0.5))\n",
        "model.add(Dense(256,activation='relu'))\n",
        "model.add(Dropout(0.5))\n",
        "model.add(Dense(1,activation='sigmoid'))"
      ],
      "metadata": {
        "id": "4qqtVV3vsFbX"
      },
      "execution_count": null,
      "outputs": []
    },
    {
      "cell_type": "code",
      "source": [
        "model.summary()"
      ],
      "metadata": {
        "id": "JGXAfViZuBCz",
        "colab": {
          "base_uri": "https://localhost:8080/"
        },
        "outputId": "cb5a5225-200d-46c8-ca24-434b6373c60e"
      },
      "execution_count": null,
      "outputs": [
        {
          "output_type": "stream",
          "name": "stdout",
          "text": [
            "Model: \"sequential\"\n",
            "_________________________________________________________________\n",
            " Layer (type)                Output Shape              Param #   \n",
            "=================================================================\n",
            " conv2d (Conv2D)             (None, 222, 222, 32)      896       \n",
            "                                                                 \n",
            " max_pooling2d (MaxPooling2  (None, 111, 111, 32)      0         \n",
            " D)                                                              \n",
            "                                                                 \n",
            " conv2d_1 (Conv2D)           (None, 109, 109, 32)      9248      \n",
            "                                                                 \n",
            " max_pooling2d_1 (MaxPoolin  (None, 54, 54, 32)        0         \n",
            " g2D)                                                            \n",
            "                                                                 \n",
            " conv2d_2 (Conv2D)           (None, 52, 52, 64)        18496     \n",
            "                                                                 \n",
            " max_pooling2d_2 (MaxPoolin  (None, 26, 26, 64)        0         \n",
            " g2D)                                                            \n",
            "                                                                 \n",
            " conv2d_3 (Conv2D)           (None, 24, 24, 64)        36928     \n",
            "                                                                 \n",
            " max_pooling2d_3 (MaxPoolin  (None, 12, 12, 64)        0         \n",
            " g2D)                                                            \n",
            "                                                                 \n",
            " conv2d_4 (Conv2D)           (None, 10, 10, 128)       73856     \n",
            "                                                                 \n",
            " max_pooling2d_4 (MaxPoolin  (None, 5, 5, 128)         0         \n",
            " g2D)                                                            \n",
            "                                                                 \n",
            " flatten (Flatten)           (None, 3200)              0         \n",
            "                                                                 \n",
            " dense (Dense)               (None, 128)               409728    \n",
            "                                                                 \n",
            " dropout (Dropout)           (None, 128)               0         \n",
            "                                                                 \n",
            " dense_1 (Dense)             (None, 256)               33024     \n",
            "                                                                 \n",
            " dropout_1 (Dropout)         (None, 256)               0         \n",
            "                                                                 \n",
            " dense_2 (Dense)             (None, 1)                 257       \n",
            "                                                                 \n",
            "=================================================================\n",
            "Total params: 582433 (2.22 MB)\n",
            "Trainable params: 582433 (2.22 MB)\n",
            "Non-trainable params: 0 (0.00 Byte)\n",
            "_________________________________________________________________\n"
          ]
        }
      ]
    },
    {
      "cell_type": "code",
      "source": [
        "optimizer = keras.optimizers.Adam(learning_rate=0.00001)\n",
        "model.compile(optimizer=optimizer,loss='binary_crossentropy',metrics=['accuracy'])"
      ],
      "metadata": {
        "id": "uga8zZ-7uEAO"
      },
      "execution_count": null,
      "outputs": []
    },
    {
      "cell_type": "code",
      "source": [
        "my_model = model.fit(train_ds,epochs=10,validation_data = validation_ds)"
      ],
      "metadata": {
        "id": "R-IwFSmUytgB",
        "colab": {
          "base_uri": "https://localhost:8080/"
        },
        "outputId": "c2712e24-a0fb-4e3f-9abb-7af66a354977"
      },
      "execution_count": null,
      "outputs": [
        {
          "output_type": "stream",
          "name": "stdout",
          "text": [
            "Epoch 1/10\n",
            "61/61 [==============================] - 25s 146ms/step - loss: 2.8206 - accuracy: 0.5364 - val_loss: 0.4532 - val_accuracy: 0.8075\n",
            "Epoch 2/10\n",
            "61/61 [==============================] - 11s 172ms/step - loss: 1.4582 - accuracy: 0.5748 - val_loss: 0.3507 - val_accuracy: 0.9048\n",
            "Epoch 3/10\n",
            "61/61 [==============================] - 7s 112ms/step - loss: 0.8981 - accuracy: 0.6460 - val_loss: 0.3012 - val_accuracy: 0.9396\n",
            "Epoch 4/10\n",
            "61/61 [==============================] - 8s 126ms/step - loss: 0.6284 - accuracy: 0.7173 - val_loss: 0.2648 - val_accuracy: 0.9516\n",
            "Epoch 5/10\n",
            "61/61 [==============================] - 8s 126ms/step - loss: 0.5043 - accuracy: 0.7516 - val_loss: 0.2285 - val_accuracy: 0.9677\n",
            "Epoch 6/10\n",
            "61/61 [==============================] - 7s 109ms/step - loss: 0.4248 - accuracy: 0.8113 - val_loss: 0.1930 - val_accuracy: 0.9709\n",
            "Epoch 7/10\n",
            "61/61 [==============================] - 7s 113ms/step - loss: 0.3603 - accuracy: 0.8368 - val_loss: 0.1578 - val_accuracy: 0.9844\n",
            "Epoch 8/10\n",
            "61/61 [==============================] - 8s 123ms/step - loss: 0.3170 - accuracy: 0.8747 - val_loss: 0.1341 - val_accuracy: 0.9870\n",
            "Epoch 9/10\n",
            "61/61 [==============================] - 9s 142ms/step - loss: 0.2849 - accuracy: 0.8732 - val_loss: 0.1111 - val_accuracy: 0.9912\n",
            "Epoch 10/10\n",
            "61/61 [==============================] - 7s 107ms/step - loss: 0.2470 - accuracy: 0.8945 - val_loss: 0.0884 - val_accuracy: 0.9943\n"
          ]
        }
      ]
    },
    {
      "cell_type": "code",
      "source": [
        "import cv2"
      ],
      "metadata": {
        "id": "9Kd0FGoZZYtz"
      },
      "execution_count": null,
      "outputs": []
    },
    {
      "cell_type": "code",
      "source": [
        "test_img = cv2.imread('/content/data/test/notinfected/img3.jpg')\n",
        "test_img = cv2.resize(test_img,(224,224))\n",
        "test_input = test_img.reshape((1,224,224,3))\n",
        "model.predict(test_input)"
      ],
      "metadata": {
        "colab": {
          "base_uri": "https://localhost:8080/"
        },
        "id": "sVkGFPMfaN1g",
        "outputId": "7981b4b9-aae0-45d6-83ca-e5d7512987b6"
      },
      "execution_count": null,
      "outputs": [
        {
          "output_type": "stream",
          "name": "stdout",
          "text": [
            "1/1 [==============================] - 0s 309ms/step\n"
          ]
        },
        {
          "output_type": "execute_result",
          "data": {
            "text/plain": [
              "array([[0.9250948]], dtype=float32)"
            ]
          },
          "metadata": {},
          "execution_count": 17
        }
      ]
    },
    {
      "cell_type": "code",
      "source": [
        "test_img = cv2.imread('/content/data/test/notinfected/img4.jpg')\n",
        "test_img = cv2.resize(test_img,(224,224))\n",
        "test_input = test_img.reshape((1,224,224,3))\n",
        "model.predict(test_input)"
      ],
      "metadata": {
        "colab": {
          "base_uri": "https://localhost:8080/"
        },
        "id": "12qulIvVaWvT",
        "outputId": "293d2f43-5868-4ebd-f22d-aa7158997ef6"
      },
      "execution_count": null,
      "outputs": [
        {
          "output_type": "stream",
          "name": "stdout",
          "text": [
            "1/1 [==============================] - 0s 27ms/step\n"
          ]
        },
        {
          "output_type": "execute_result",
          "data": {
            "text/plain": [
              "array([[0.980803]], dtype=float32)"
            ]
          },
          "metadata": {},
          "execution_count": 18
        }
      ]
    },
    {
      "cell_type": "code",
      "source": [
        "test_img = cv2.imread('/content/data/test/infected/img4.jpg')\n",
        "test_img = cv2.resize(test_img,(224,224))\n",
        "test_input = test_img.reshape((1,224,224,3))\n",
        "model.predict(test_input)"
      ],
      "metadata": {
        "colab": {
          "base_uri": "https://localhost:8080/"
        },
        "id": "m6lXUZekaaDP",
        "outputId": "742ac5ca-1088-4bb5-e327-68d81500ae75"
      },
      "execution_count": null,
      "outputs": [
        {
          "output_type": "stream",
          "name": "stdout",
          "text": [
            "1/1 [==============================] - 0s 111ms/step\n"
          ]
        },
        {
          "output_type": "execute_result",
          "data": {
            "text/plain": [
              "array([[0.04365268]], dtype=float32)"
            ]
          },
          "metadata": {},
          "execution_count": 19
        }
      ]
    },
    {
      "cell_type": "code",
      "source": [
        "import matplotlib.pyplot as plt\n",
        "\n",
        "plt.plot(my_model.history['accuracy'],color='red',label='train')\n",
        "plt.plot(my_model.history['val_accuracy'],color='blue',label='val')\n",
        "plt.legend()\n",
        "plt.show()"
      ],
      "metadata": {
        "colab": {
          "base_uri": "https://localhost:8080/",
          "height": 430
        },
        "id": "hjcNqhqCsFyC",
        "outputId": "7a6e5ec9-7c0c-4118-f12d-15b756a54f13"
      },
      "execution_count": null,
      "outputs": [
        {
          "output_type": "display_data",
          "data": {
            "text/plain": [
              "<Figure size 640x480 with 1 Axes>"
            ],
            "image/png": "[encoded data removed]"
          },
          "metadata": {}
        }
      ]
    },
    {
      "cell_type": "code",
      "source": [
        "plt.plot(my_model.history['loss'],color='red',label='train')\n",
        "plt.plot(my_model.history['val_loss'],color='blue',label='validation')\n",
        "plt.legend()\n",
        "plt.show()"
      ],
      "metadata": {
        "colab": {
          "base_uri": "https://localhost:8080/",
          "height": 430
        },
        "id": "kt0arSQDsbIJ",
        "outputId": "740003c8-545d-44eb-bd00-5a55cb3d80f3"
      },
      "execution_count": null,
      "outputs": [
        {
          "output_type": "display_data",
          "data": {
            "text/plain": [
              "<Figure size 640x480 with 1 Axes>"
            ],
            "image/png": "[encoded data removed]"
          },
          "metadata": {}
        }
      ]
    },
    {
      "cell_type": "code",
      "source": [
        "my_model.history['accuracy']"
      ],
      "metadata": {
        "colab": {
          "base_uri": "https://localhost:8080/"
        },
        "id": "2eVPg8imtotm",
        "outputId": "4023e2d5-cc76-425c-d326-2e9ed50e8ff9"
      },
      "execution_count": null,
      "outputs": [
        {
          "output_type": "execute_result",
          "data": {
            "text/plain": [
              "[0.5363825559616089,\n",
              " 0.5748440623283386,\n",
              " 0.6460499167442322,\n",
              " 0.717255711555481,\n",
              " 0.7515592575073242,\n",
              " 0.8113305568695068,\n",
              " 0.8367983102798462,\n",
              " 0.8747401237487793,\n",
              " 0.8731808662414551,\n",
              " 0.894490659236908]"
            ]
          },
          "metadata": {},
          "execution_count": 22
        }
      ]
    },
    {
      "cell_type": "code",
      "source": [
        "my_model.history['val_accuracy']"
      ],
      "metadata": {
        "colab": {
          "base_uri": "https://localhost:8080/"
        },
        "id": "66AmXlfdtui4",
        "outputId": "67212886-e9be-48f2-f1f0-385d3e4750e9"
      },
      "execution_count": null,
      "outputs": [
        {
          "output_type": "execute_result",
          "data": {
            "text/plain": [
              "[0.807492196559906,\n",
              " 0.9047867059707642,\n",
              " 0.9396461844444275,\n",
              " 0.9516128897666931,\n",
              " 0.9677419066429138,\n",
              " 0.9708636999130249,\n",
              " 0.9843912720680237,\n",
              " 0.9869927167892456,\n",
              " 0.9911550283432007,\n",
              " 0.9942768216133118]"
            ]
          },
          "metadata": {},
          "execution_count": 23
        }
      ]
    },
    {
      "cell_type": "code",
      "source": [],
      "metadata": {
        "id": "t2ZZK47615T-"
      },
      "execution_count": null,
      "outputs": []
    }
  ]
}